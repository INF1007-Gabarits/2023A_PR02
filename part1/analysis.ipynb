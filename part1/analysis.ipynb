{
 "cells": [
  {
   "cell_type": "markdown",
   "metadata": {},
   "source": [
    "## Imports"
   ]
  },
  {
   "cell_type": "code",
   "execution_count": 1,
   "metadata": {},
   "outputs": [],
   "source": [
    "import seaborn as sns\n",
    "import matplotlib.pyplot as plt\n",
    "import plotly.express as px\n",
    "import plotly.graph_objects as go\n",
    "from plotly.subplots import make_subplots\n",
    "import pandas as pd"
   ]
  },
  {
   "cell_type": "markdown",
   "metadata": {},
   "source": [
    "## Préparation du dataset"
   ]
  },
  {
   "cell_type": "markdown",
   "metadata": {},
   "source": [
    "### 1.0 Chargement des données"
   ]
  },
  {
   "cell_type": "code",
   "execution_count": 2,
   "metadata": {},
   "outputs": [],
   "source": [
    "from constants import DATA_PATH\n",
    "\n",
    "def create_pokedex() -> pd.DataFrame:\n",
    "    \"\"\" \n",
    "    Lire le fichier csv dans DATA_PATH et retourner un DataFrame contenant les données du fichier csv.\n",
    "\n",
    "    @return: DataFrame contenant les données du fichier csv.\n",
    "    \"\"\"\n",
    "    pass\n",
    "\n",
    "pokedex = create_pokedex()\n",
    "pokedex"
   ]
  },
  {
   "cell_type": "code",
   "execution_count": 3,
   "metadata": {},
   "outputs": [],
   "source": [
    "# TODO: Afficher les 5 premières lignes du DataFrame"
   ]
  },
  {
   "cell_type": "markdown",
   "metadata": {
    "collapsed": false
   },
   "source": [
    "### 1.1 Suppression des colonnes non pertinentes"
   ]
  },
  {
   "cell_type": "code",
   "execution_count": 4,
   "metadata": {},
   "outputs": [],
   "source": [
    "def filter_columns(df: pd.DataFrame) -> None:\n",
    "    \"\"\"\n",
    "    Filtre les colonnes du DataFrame passé en paramètre pour ne garder que les colonnes utiles (voir README.md)\n",
    "    L'opération est faite inplace (le DataFrame est modifié directement sans être retourné).\n",
    "    \n",
    "    @param df: Le DataFrame à filtrer.\n",
    "    \"\"\"\n",
    "    pass\n",
    "\n",
    "filter_columns(pokedex)\n",
    "pokedex"
   ]
  },
  {
   "cell_type": "markdown",
   "metadata": {
    "collapsed": false
   },
   "source": [
    "### 1.2 Renommage des colonnes restantes\n"
   ]
  },
  {
   "cell_type": "code",
   "execution_count": 5,
   "metadata": {},
   "outputs": [],
   "source": [
    "def rename_columns(df: pd.DataFrame) -> None:\n",
    "    \"\"\"\n",
    "    Renomme les colonnes du DataFrame passé en paramètre pour les rendre plus lisibles (voir README.md).\n",
    "    L'opération est faite inplace.\n",
    "\n",
    "    @param df: Le DataFrame à renommer.\n",
    "    \"\"\"\n",
    "    pass\n",
    "\n",
    "rename_columns(pokedex)\n",
    "pokedex"
   ]
  },
  {
   "cell_type": "markdown",
   "metadata": {
    "collapsed": false
   },
   "source": [
    "### 1.3. Nettoyage des données"
   ]
  },
  {
   "cell_type": "code",
   "execution_count": 6,
   "metadata": {},
   "outputs": [],
   "source": [
    "def clean_data(df: pd.DataFrame) -> None:\n",
    "    \"\"\" \n",
    "    Nettoie les données du DataFrame passé en paramètre pour les rendre plus lisibles (voir README.md).\n",
    "    - Supprime les doublons\n",
    "    - Supprime les lignes ayant des valeurs manquantes (sauf pour la colonne 'Secondary Type')\n",
    "    - Réinitialise les index\n",
    "    Les opérations sont faites inplace.\n",
    "\n",
    "    @param df: Le DataFrame à nettoyer.\n",
    "    \"\"\"\n",
    "    pass\n",
    "\n",
    "clean_data(pokedex)\n",
    "pokedex"
   ]
  },
  {
   "cell_type": "code",
   "execution_count": 7,
   "metadata": {},
   "outputs": [],
   "source": [
    "# Permet de vérifier les types de chaque colonne\n",
    "# TODO: Décommenter la ligne suivante lorsque vous avez terminé la fonction clean_data\n",
    "# pokedex.info()"
   ]
  },
  {
   "cell_type": "markdown",
   "metadata": {},
   "source": [
    "### 1.4 Correction des types de données"
   ]
  },
  {
   "cell_type": "code",
   "execution_count": 8,
   "metadata": {},
   "outputs": [],
   "source": [
    "def correct_columns_types(df) -> None:\n",
    "    \"\"\"\n",
    "    Corrige les types des colonnes du DataFrame passé en paramètre (voir README.md).\n",
    "    Les opérations sont faites inplace.\n",
    "\n",
    "    @param df: Le DataFrame dont les types des colonnes doivent être corrigés.\n",
    "    \"\"\"\n",
    "    pass\n",
    "\n",
    "correct_columns_types(pokedex)\n",
    "pokedex"
   ]
  },
  {
   "cell_type": "code",
   "execution_count": 9,
   "metadata": {},
   "outputs": [],
   "source": [
    "# Permet de vérifier que les types des colonnes ont bien été corrigés\n",
    "# TODO: Décommenter la ligne suivante lorsque vous avez terminé la fonction correct_columns_types\n",
    "# pokedex.info()"
   ]
  },
  {
   "cell_type": "markdown",
   "metadata": {},
   "source": [
    "## Visualisation de données"
   ]
  },
  {
   "cell_type": "markdown",
   "metadata": {},
   "source": [
    "### 1.5 Le Spectre des Types"
   ]
  },
  {
   "cell_type": "code",
   "execution_count": 10,
   "metadata": {},
   "outputs": [],
   "source": [
    "def display_types_pie_chart(df: pd.DataFrame) -> None:\n",
    "    \"\"\"\n",
    "    Affiche un pie chart représentant la distribution des types primaires de Pokémon.\n",
    "\n",
    "    @param df: Le DataFrame contenant les données à afficher.\n",
    "    \"\"\"\n",
    "    pass\n",
    "    \n",
    "display_types_pie_chart(pokedex)"
   ]
  },
  {
   "cell_type": "markdown",
   "metadata": {},
   "source": [
    "### 1.6 La Course aux Légendes"
   ]
  },
  {
   "cell_type": "code",
   "execution_count": 11,
   "metadata": {},
   "outputs": [],
   "source": [
    "def display_lengends_hist(df: pd.DataFrame) -> None:\n",
    "    \"\"\"\n",
    "    Affiche un histogramme représentant le nombre de Pokémon légendaires par génération.\n",
    "\n",
    "    @param df: Le DataFrame contenant les données à afficher.\n",
    "    \"\"\"\n",
    "    pass\n",
    "\n",
    "display_lengends_hist(pokedex)"
   ]
  },
  {
   "cell_type": "markdown",
   "metadata": {},
   "source": [
    "### 1.7 L'Ascension Générationnelle"
   ]
  },
  {
   "cell_type": "code",
   "execution_count": 12,
   "metadata": {},
   "outputs": [],
   "source": [
    "def display_stats_evolution(df: pd.DataFrame) -> None:\n",
    "    \"\"\"\n",
    "    Affiche un graphique représentant l'évolution des statistiques moyennes des Pokémon par génération.\n",
    "\n",
    "    @param df: Le DataFrame contenant les données à afficher.\n",
    "    \"\"\"\n",
    "    pass\n",
    "\n",
    "display_stats_evolution(pokedex)"
   ]
  },
  {
   "cell_type": "markdown",
   "metadata": {},
   "source": [
    "### 1.8 Le Radar des Éléments\n"
   ]
  },
  {
   "cell_type": "code",
   "execution_count": 13,
   "metadata": {},
   "outputs": [],
   "source": [
    "def display_types_radar_charts(df: pd.DataFrame) -> None:\n",
    "    \"\"\"\n",
    "    Affiche un radar chart représentant les statistiques moyennes des Pokémon par type.\n",
    "\n",
    "    @param df: Le DataFrame contenant les données à afficher.\n",
    "    \"\"\"\n",
    "    pass\n",
    "\n",
    "display_types_radar_charts(pokedex)"
   ]
  },
  {
   "cell_type": "markdown",
   "metadata": {},
   "source": []
  },
  {
   "cell_type": "markdown",
   "metadata": {},
   "source": [
    "## Filtrage, tri et agrégation"
   ]
  },
  {
   "cell_type": "markdown",
   "metadata": {},
   "source": [
    "### 1.9 Le Panthéon des Spécialistes"
   ]
  },
  {
   "cell_type": "code",
   "execution_count": 14,
   "metadata": {},
   "outputs": [],
   "source": [
    "from IPython.display import display\n",
    "\n",
    "def display_best_pokemon(df: pd.DataFrame) -> None:\n",
    "    \"\"\"\n",
    "    Affiche les 5 meilleurs Pokémon pour chaque statistique (voir README.md).\n",
    "\n",
    "    @param df: Le DataFrame contenant les données à afficher.\n",
    "    \"\"\"\n",
    "    pass\n",
    "\n",
    "display_best_pokemon(pokedex)"
   ]
  },
  {
   "cell_type": "markdown",
   "metadata": {},
   "source": [
    "### 1.10 Les Liens Invisibles\n"
   ]
  },
  {
   "cell_type": "code",
   "execution_count": 15,
   "metadata": {},
   "outputs": [],
   "source": [
    "def display_stats_heatmap(df: pd.DataFrame) -> None:\n",
    "    \"\"\"\n",
    "    Affiche une heatmap représentant la matrice de corrélation entre les statistiques des Pokémon.\n",
    "\n",
    "    @param df: Le DataFrame contenant les données à afficher.\n",
    "    \"\"\"\n",
    "    pass\n",
    "\n",
    "display_stats_heatmap(pokedex)"
   ]
  },
  {
   "cell_type": "markdown",
   "metadata": {},
   "source": [
    "## Modélisation et prévision"
   ]
  },
  {
   "cell_type": "markdown",
   "metadata": {},
   "source": [
    "### 8. Détecteur de Légendes\n",
    "\n",
    "Utilisez un algorithme de classification k-NN pour prédire si un Pokémon est légendaire, basé sur ses statistiques. Évaluez la précision du modèle."
   ]
  },
  {
   "cell_type": "code",
   "execution_count": 16,
   "metadata": {},
   "outputs": [],
   "source": [
    "from sklearn.model_selection import train_test_split\n",
    "from sklearn.metrics import accuracy_score\n",
    "from sklearn.neighbors import KNeighborsClassifier\n",
    "from sklearn.preprocessing import StandardScaler\n",
    "\n",
    "def split_data(df):\n",
    "    \"\"\" \n",
    "    Sépare les données en données d'entrainement et données de test.\n",
    "\n",
    "    @param df: Le DataFrame contenant les données à séparer.\n",
    "\n",
    "    @return: Les données d'entrainement et de test sous forme de tuple (x_train, x_test, y_train, y_test).\n",
    "    \"\"\"\n",
    "    columns = ['Attack', 'Defense', 'Speed', 'HP', 'Special Attack', 'Special Defense']\n",
    "    x = df[columns]\n",
    "    y = df['Legendary']\n",
    "    return train_test_split(x, y, test_size=0.2, random_state=42)\n",
    "\n",
    "def normalize_data(x_train, x_test):\n",
    "    \"\"\" \n",
    "    Normalise les données d'entrainement et de test en utilisant un StandardScaler.\n",
    "\n",
    "    @param x_train: Les données d'entrainement.\n",
    "    @param x_test: Les données de test.\n",
    "\n",
    "    @return: Les données d'entrainement et de test normalisées sous forme de tuple (x_train, x_test).\n",
    "    \"\"\"\n",
    "    pass\n",
    "\n",
    "def train_model(x_train, y_train):\n",
    "    \"\"\"\n",
    "    Entraîne un modèle KNeighborsClassifier avec les données d'entrainement et les labels passés en paramètre.\n",
    "\n",
    "    @param x_train: Les données d'entrainement.\n",
    "    @param y_train: Les labels.\n",
    "    @return: Le modèle entraîné.\n",
    "    \"\"\"\n",
    "    pass\n",
    "\n",
    "def evaluate_model(model, x_test, y_test):\n",
    "    \"\"\"\n",
    "    Évalue le modèle passé en paramètre avec les données de test et les labels passés en paramètre.\n",
    "\n",
    "    @param model: Le modèle à évaluer.\n",
    "    @param x_test: Les données de test.\n",
    "    @param y_test: Les labels.\n",
    "    @return: La précision du modèle (float)\n",
    "    \"\"\"\n",
    "    pass\n",
    "\n",
    "def predict_legendary(df):\n",
    "    \"\"\"\n",
    "    Orchestre les différentes étapes pour entraîner un modèle de prédiction de Pokémon \n",
    "    légendaires et affiche la précision du modèle.\n",
    "\n",
    "    @param df: Le DataFrame contenant les données à utiliser.\n",
    "    \"\"\"\n",
    "    x_train, x_test, y_train, y_test = split_data(df)\n",
    "    pass\n",
    "\n",
    "# TODO: Décommenter la ligne suivante lorsque vous avez terminé la fonction predict_legendary\n",
    "# predict_legendary(pokedex)"
   ]
  }
 ],
 "metadata": {
  "kernelspec": {
   "display_name": "venv",
   "language": "python",
   "name": "python3"
  },
  "language_info": {
   "codemirror_mode": {
    "name": "ipython",
    "version": 3
   },
   "file_extension": ".py",
   "mimetype": "text/x-python",
   "name": "python",
   "nbconvert_exporter": "python",
   "pygments_lexer": "ipython3",
   "version": "3.9.6"
  }
 },
 "nbformat": 4,
 "nbformat_minor": 2
}
